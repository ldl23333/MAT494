{
  "nbformat": 4,
  "nbformat_minor": 0,
  "metadata": {
    "colab": {
      "provenance": [],
      "collapsed_sections": [],
      "authorship_tag": "ABX9TyNRztc51HtlyRDlRi9Jw1XD",
      "include_colab_link": true
    },
    "kernelspec": {
      "name": "python3",
      "display_name": "Python 3"
    },
    "language_info": {
      "name": "python"
    }
  },
  "cells": [
    {
      "cell_type": "markdown",
      "metadata": {
        "id": "view-in-github",
        "colab_type": "text"
      },
      "source": [
        "<a href=\"https://colab.research.google.com/github/ldl23333/MAT494/blob/main/Homework2_2.ipynb\" target=\"_parent\"><img src=\"https://colab.research.google.com/assets/colab-badge.svg\" alt=\"Open In Colab\"/></a>"
      ]
    },
    {
      "cell_type": "markdown",
      "source": [
        "Homework 2.2"
      ],
      "metadata": {
        "id": "HyClCUXklUbK"
      }
    },
    {
      "cell_type": "markdown",
      "source": [
        "scipy.stats.poisson = <scipy.stats._discrete_distns.poisson_gen object>\n",
        "\n",
        "A Poisson discrete random variable.\n",
        "\n",
        "As an instance of the rv_discrete class, poisson object inherits from it a collection of generic methods (see below for the full list), and completes them with details specific for this particular distribution.\n",
        "\n",
        "https://docs.scipy.org/doc/scipy/reference/generated/scipy.stats.poisson.html"
      ],
      "metadata": {
        "id": "HALlsSJ2pDUE"
      }
    },
    {
      "cell_type": "code",
      "execution_count": 2,
      "metadata": {
        "id": "5dIKcAyelSmq"
      },
      "outputs": [],
      "source": [
        "from scipy.stats import poisson\n",
        "import matplotlib.pyplot as plt\n",
        "import numpy as np\n",
        "\n",
        "# prepare the figure canvas\n",
        "fig, ax = plt.subplots(1, 1)\n",
        "\n",
        "# display all the plots inline\n",
        "%matplotlib inline"
      ]
    },
    {
      "cell_type": "code",
      "source": [
        "mu = 0.6\n",
        "mean, var, skew, kurt = poisson.stats(mu, moments='mvsk')"
      ],
      "metadata": {
        "id": "yn0Mg39upMQx"
      },
      "execution_count": 3,
      "outputs": []
    },
    {
      "cell_type": "code",
      "source": [
        "# display the probability mass function (pmf):\n",
        "x = np.arange(poisson.ppf(0.01, mu), poisson.ppf(0.99, mu))\n",
        "ax.plot(x, poisson.pmf(x, mu), 'bo', ms=8, label='poisson pmf')\n",
        "ax.vlines(x, 0, poisson.pmf(x, mu), colors='b', lw=5, alpha=0.5)\n",
        "\n",
        "# display all the plots inline\n",
        "%matplotlib inline"
      ],
      "metadata": {
        "id": "91hMs8DtpP30"
      },
      "execution_count": 4,
      "outputs": []
    },
    {
      "cell_type": "code",
      "source": [
        "# Alternatively, the distribution object can be called (as a function) \n",
        "# to fix the shape and location. \n",
        "# This returns a “frozen” RV object holding the given parameters fixed.\n",
        "\n",
        "# Freeze the distribution and display the frozen pmf:\n",
        "rv = poisson(mu)\n",
        "ax.vlines(x, 0, rv.pmf(x), colors='k', linestyles='-', lw=1, label='frozen pmf')\n",
        "ax.legend(loc='best', frameon=False)\n",
        "\n",
        "# display all the plots inline\n",
        "%matplotlib inline \n",
        "\n",
        "plt.show()"
      ],
      "metadata": {
        "id": "x7nNIJHJpSi_"
      },
      "execution_count": 5,
      "outputs": []
    },
    {
      "cell_type": "code",
      "source": [
        "# Check accuracy of cdf and ppf:\n",
        "prob = poisson.cdf(x, mu)\n",
        "np.allclose(x, poisson.ppf(prob, mu))"
      ],
      "metadata": {
        "colab": {
          "base_uri": "https://localhost:8080/"
        },
        "id": "G1Q7UzsmpVx6",
        "outputId": "8b027b1d-6f97-4c5a-9ca4-b5fff501549c"
      },
      "execution_count": 6,
      "outputs": [
        {
          "output_type": "execute_result",
          "data": {
            "text/plain": [
              "True"
            ]
          },
          "metadata": {},
          "execution_count": 6
        }
      ]
    },
    {
      "cell_type": "code",
      "source": [
        "# Generate random numbers:\n",
        "r = poisson.rvs(mu, size=1000)"
      ],
      "metadata": {
        "id": "r3S6tQ_MpYXz"
      },
      "execution_count": 7,
      "outputs": []
    }
  ]
}