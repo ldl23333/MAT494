{
  "nbformat": 4,
  "nbformat_minor": 0,
  "metadata": {
    "colab": {
      "provenance": [],
      "collapsed_sections": [],
      "authorship_tag": "ABX9TyObRlBqbSYDsRtFPKnlec77",
      "include_colab_link": true
    },
    "kernelspec": {
      "name": "python3",
      "display_name": "Python 3"
    },
    "language_info": {
      "name": "python"
    }
  },
  "cells": [
    {
      "cell_type": "markdown",
      "metadata": {
        "id": "view-in-github",
        "colab_type": "text"
      },
      "source": [
        "<a href=\"https://colab.research.google.com/github/ldl23333/MAT494/blob/main/Homework3_2.ipynb\" target=\"_parent\"><img src=\"https://colab.research.google.com/assets/colab-badge.svg\" alt=\"Open In Colab\"/></a>"
      ]
    },
    {
      "cell_type": "markdown",
      "source": [
        "Homework 3.2"
      ],
      "metadata": {
        "id": "tx9ikNj7TBBP"
      }
    },
    {
      "cell_type": "code",
      "source": [
        "# import sympy\n",
        "from sympy import *\n",
        " \n",
        "x = symbols('x')\n",
        "expr = sin(x)/x;\n",
        "   \n",
        "print(\"Expression : {}\".format(expr))\n",
        "     \n",
        "# Use sympy.limit() method\n",
        "limit_expr = limit(expr, x, 0) \n",
        "     \n",
        "print(\"Limit of the expression tends to 0 : {}\".format(limit_expr))"
      ],
      "metadata": {
        "colab": {
          "base_uri": "https://localhost:8080/"
        },
        "id": "CYwHqfUqTvSy",
        "outputId": "c3403b8d-1b33-4b8f-d085-af46d15e490f"
      },
      "execution_count": 15,
      "outputs": [
        {
          "output_type": "stream",
          "name": "stdout",
          "text": [
            "Expression : sin(x)/x\n",
            "Limit of the expression tends to 0 : 1\n"
          ]
        }
      ]
    },
    {
      "cell_type": "code",
      "source": [
        "pip install sympy"
      ],
      "metadata": {
        "colab": {
          "base_uri": "https://localhost:8080/"
        },
        "id": "5q2NhMgHTv1S",
        "outputId": "9dec9cbf-fec9-4855-dae6-3457f0bffa57"
      },
      "execution_count": 16,
      "outputs": [
        {
          "output_type": "stream",
          "name": "stdout",
          "text": [
            "Looking in indexes: https://pypi.org/simple, https://us-python.pkg.dev/colab-wheels/public/simple/\n",
            "Requirement already satisfied: sympy in /usr/local/lib/python3.7/dist-packages (1.7.1)\n",
            "Requirement already satisfied: mpmath>=0.19 in /usr/local/lib/python3.7/dist-packages (from sympy) (1.2.1)\n"
          ]
        }
      ]
    },
    {
      "cell_type": "code",
      "source": [
        "#Importing sympy\n",
        "\n",
        "from sympy import *\n",
        "\n",
        "# create a \"symbol\" called x\n",
        "x = Symbol('x')\n",
        "\n",
        "#Define function\n",
        "f = x**2\n",
        "\n",
        "#Calculating Derivative\n",
        "derivative_f = f.diff(x)\n",
        "\n",
        "derivative_f"
      ],
      "metadata": {
        "colab": {
          "base_uri": "https://localhost:8080/",
          "height": 38
        },
        "id": "hu99qcFrTy6c",
        "outputId": "e64ea678-d57a-4dac-a12e-5a3177c5c235"
      },
      "execution_count": 17,
      "outputs": [
        {
          "output_type": "execute_result",
          "data": {
            "text/plain": [
              "2*x"
            ],
            "text/latex": "$\\displaystyle 2 x$"
          },
          "metadata": {},
          "execution_count": 17
        }
      ]
    },
    {
      "cell_type": "code",
      "source": [
        "import sympy as sym\n",
        " \n",
        "#Power rule\n",
        "x = sym.Symbol('x')\n",
        "f = x**5\n",
        "derivative_f = f.diff(x)\n",
        "derivative_f"
      ],
      "metadata": {
        "colab": {
          "base_uri": "https://localhost:8080/",
          "height": 38
        },
        "id": "QY_lIyeMT6uS",
        "outputId": "e37d9f88-c576-4842-f6f8-3ec465bc1ee1"
      },
      "execution_count": 18,
      "outputs": [
        {
          "output_type": "execute_result",
          "data": {
            "text/plain": [
              "5*x**4"
            ],
            "text/latex": "$\\displaystyle 5 x^{4}$"
          },
          "metadata": {},
          "execution_count": 18
        }
      ]
    },
    {
      "cell_type": "code",
      "source": [
        "import sympy as sym\n",
        "#Product Rule\n",
        "x = sym.Symbol('x')\n",
        "f = sym.exp(x)*sym.cos(x)\n",
        "derivative_f = f.diff(x)\n",
        "derivative_f"
      ],
      "metadata": {
        "colab": {
          "base_uri": "https://localhost:8080/",
          "height": 38
        },
        "id": "Pb-XSAgZT_T_",
        "outputId": "db55c876-c043-47eb-d8ed-1b5661cbfcaf"
      },
      "execution_count": 19,
      "outputs": [
        {
          "output_type": "execute_result",
          "data": {
            "text/plain": [
              "-exp(x)*sin(x) + exp(x)*cos(x)"
            ],
            "text/latex": "$\\displaystyle - e^{x} \\sin{\\left(x \\right)} + e^{x} \\cos{\\left(x \\right)}$"
          },
          "metadata": {},
          "execution_count": 19
        }
      ]
    },
    {
      "cell_type": "code",
      "source": [
        "import sympy as sym\n",
        "#Chain Rule\n",
        "x = sym.Symbol('x')\n",
        "f = sym.cos(x**2)\n",
        "derivative_f = f.diff(x)\n",
        "derivative_f"
      ],
      "metadata": {
        "colab": {
          "base_uri": "https://localhost:8080/",
          "height": 39
        },
        "id": "R4wPglFvUB2k",
        "outputId": "baac211e-00d3-4e22-be66-37df3203b1ce"
      },
      "execution_count": 20,
      "outputs": [
        {
          "output_type": "execute_result",
          "data": {
            "text/plain": [
              "-2*x*sin(x**2)"
            ],
            "text/latex": "$\\displaystyle - 2 x \\sin{\\left(x^{2} \\right)}$"
          },
          "metadata": {},
          "execution_count": 20
        }
      ]
    },
    {
      "cell_type": "code",
      "source": [
        "import sympy as sym\n",
        " \n",
        "#Derivatives of multivariable function\n",
        " \n",
        "x , y = sym.symbols('x y')\n",
        "f = x**4+x*y**4\n",
        " \n",
        "#Differentiating partially w.r.t x\n",
        "derivative_f = f.diff(x)\n",
        "derivative_f"
      ],
      "metadata": {
        "colab": {
          "base_uri": "https://localhost:8080/",
          "height": 38
        },
        "id": "aNjjG2imUGCu",
        "outputId": "2f81a167-c64e-4ca7-c4fe-539e3294749b"
      },
      "execution_count": 21,
      "outputs": [
        {
          "output_type": "execute_result",
          "data": {
            "text/plain": [
              "4*x**3 + y**4"
            ],
            "text/latex": "$\\displaystyle 4 x^{3} + y^{4}$"
          },
          "metadata": {},
          "execution_count": 21
        }
      ]
    },
    {
      "cell_type": "code",
      "source": [
        "from sympy import Symbol, Derivative\n",
        "\n",
        "x= Symbol('x')\n",
        "\n",
        "y= Symbol('y')\n",
        "\n",
        "function= x**2 * y**3 + 12*y**4\n",
        "\n",
        "partialderiv= Derivative(function, x)\n",
        "partialderiv.doit()"
      ],
      "metadata": {
        "colab": {
          "base_uri": "https://localhost:8080/",
          "height": 38
        },
        "id": "Rb5NQBjPUJOS",
        "outputId": "76a2b802-8173-4ca1-e4c6-02935609d494"
      },
      "execution_count": 22,
      "outputs": [
        {
          "output_type": "execute_result",
          "data": {
            "text/plain": [
              "2*x*y**3"
            ],
            "text/latex": "$\\displaystyle 2 x y^{3}$"
          },
          "metadata": {},
          "execution_count": 22
        }
      ]
    }
  ]
}