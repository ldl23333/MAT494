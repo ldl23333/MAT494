{
  "nbformat": 4,
  "nbformat_minor": 0,
  "metadata": {
    "colab": {
      "name": "Homework1.2.ipynb",
      "provenance": [],
      "collapsed_sections": [],
      "authorship_tag": "ABX9TyMWSfsgBNTjFrvcg+9NgSt5",
      "include_colab_link": true
    },
    "kernelspec": {
      "name": "python3",
      "display_name": "Python 3"
    },
    "language_info": {
      "name": "python"
    }
  },
  "cells": [
    {
      "cell_type": "markdown",
      "metadata": {
        "id": "view-in-github",
        "colab_type": "text"
      },
      "source": [
        "<a href=\"https://colab.research.google.com/github/ldl23333/MAT494/blob/main/Homework1_2.ipynb\" target=\"_parent\"><img src=\"https://colab.research.google.com/assets/colab-badge.svg\" alt=\"Open In Colab\"/></a>"
      ]
    },
    {
      "cell_type": "markdown",
      "source": [
        "MAT 494 HW 1.2"
      ],
      "metadata": {
        "id": "ym5M4GCSZflg"
      }
    },
    {
      "cell_type": "code",
      "execution_count": 17,
      "metadata": {
        "colab": {
          "base_uri": "https://localhost:8080/"
        },
        "id": "O4089b21ZPDV",
        "outputId": "569ca313-0c45-4cdd-a6e5-c8fcb0e9830f"
      },
      "outputs": [
        {
          "output_type": "stream",
          "name": "stdout",
          "text": [
            "[0 1 2 3 4 5 6 7 8 9]\n"
          ]
        }
      ],
      "source": [
        "import numpy as np\n",
        "a = np.arange(10)\n",
        "print(a)"
      ]
    },
    {
      "cell_type": "code",
      "source": [
        "a = np.zeros((3, 5))\n",
        "# note the extra bracket you need for calling np.zeros\n",
        "print(a, '\\n')\n",
        "\n",
        "# shape of the array\n",
        "print('len =',len(a))\n",
        "print('shape =',a.shape)"
      ],
      "metadata": {
        "colab": {
          "base_uri": "https://localhost:8080/"
        },
        "id": "s8hi5BcCaImg",
        "outputId": "bcf97ebe-fc44-494f-b5b7-8346f8c79547"
      },
      "execution_count": 18,
      "outputs": [
        {
          "output_type": "stream",
          "name": "stdout",
          "text": [
            "[[0. 0. 0. 0. 0.]\n",
            " [0. 0. 0. 0. 0.]\n",
            " [0. 0. 0. 0. 0.]] \n",
            "\n",
            "len = 3\n",
            "shape = (3, 5)\n"
          ]
        }
      ]
    },
    {
      "cell_type": "code",
      "source": [
        "# pick two output valuables from a method\n",
        "a = np.zeros((3,5))\n",
        "nx,ny = a.shape\n",
        "print('nx =', nx)\n",
        "print('ny =', ny)"
      ],
      "metadata": {
        "colab": {
          "base_uri": "https://localhost:8080/"
        },
        "id": "nXdZvMxEbUaB",
        "outputId": "2276f881-f520-4eba-c7ce-8c08e8a0cbe5"
      },
      "execution_count": 19,
      "outputs": [
        {
          "output_type": "stream",
          "name": "stdout",
          "text": [
            "nx = 3\n",
            "ny = 5\n"
          ]
        }
      ]
    },
    {
      "cell_type": "code",
      "source": [
        "# ways to generate a constant array\n",
        "\n",
        "a = np.zeros((3,5)) + 7\n",
        "print(a, '\\n')\n",
        "\n",
        "b = np.ones((3,5)) * 7\n",
        "print(b, '\\n')\n",
        "\n",
        "c = np.full((3,5), 7)\n",
        "print(c)"
      ],
      "metadata": {
        "colab": {
          "base_uri": "https://localhost:8080/"
        },
        "id": "KqfurMGEbdya",
        "outputId": "686924d9-7617-4a04-90f7-dfdc5da3d330"
      },
      "execution_count": 20,
      "outputs": [
        {
          "output_type": "stream",
          "name": "stdout",
          "text": [
            "[[7. 7. 7. 7. 7.]\n",
            " [7. 7. 7. 7. 7.]\n",
            " [7. 7. 7. 7. 7.]] \n",
            "\n",
            "[[7. 7. 7. 7. 7.]\n",
            " [7. 7. 7. 7. 7.]\n",
            " [7. 7. 7. 7. 7.]] \n",
            "\n",
            "[[7 7 7 7 7]\n",
            " [7 7 7 7 7]\n",
            " [7 7 7 7 7]]\n"
          ]
        }
      ]
    },
    {
      "cell_type": "code",
      "source": [
        "# identity matrix function eye()\n",
        "a = np.eye(5)\n",
        "print(a)"
      ],
      "metadata": {
        "colab": {
          "base_uri": "https://localhost:8080/"
        },
        "id": "S2lyvI9kcPN8",
        "outputId": "89248d55-adbb-4150-cf8e-339d34290498"
      },
      "execution_count": 21,
      "outputs": [
        {
          "output_type": "stream",
          "name": "stdout",
          "text": [
            "[[1. 0. 0. 0. 0.]\n",
            " [0. 1. 0. 0. 0.]\n",
            " [0. 0. 1. 0. 0.]\n",
            " [0. 0. 0. 1. 0.]\n",
            " [0. 0. 0. 0. 1.]]\n"
          ]
        }
      ]
    },
    {
      "cell_type": "code",
      "source": [
        "# index\n",
        "a = np.array(([1,2], [3,4], [5,6]))\n",
        "print(a)"
      ],
      "metadata": {
        "colab": {
          "base_uri": "https://localhost:8080/"
        },
        "id": "o_gq1a5RcfNI",
        "outputId": "e5baf592-45a7-44c9-edff-1f8ce124652e"
      },
      "execution_count": 22,
      "outputs": [
        {
          "output_type": "stream",
          "name": "stdout",
          "text": [
            "[[1 2]\n",
            " [3 4]\n",
            " [5 6]]\n"
          ]
        }
      ]
    },
    {
      "cell_type": "code",
      "source": [
        "# slice index\n",
        "a = np.array([[1,2,3,4], [5,6,7,8], [9,10,11,12]])\n",
        "print(a)\n",
        "b = a[:2, 1:3]\n",
        "print(b)"
      ],
      "metadata": {
        "colab": {
          "base_uri": "https://localhost:8080/"
        },
        "id": "HeEyNkeecfKB",
        "outputId": "33a52c21-acf7-4f8b-af71-2af9314f2765"
      },
      "execution_count": 23,
      "outputs": [
        {
          "output_type": "stream",
          "name": "stdout",
          "text": [
            "[[ 1  2  3  4]\n",
            " [ 5  6  7  8]\n",
            " [ 9 10 11 12]]\n",
            "[[2 3]\n",
            " [6 7]]\n"
          ]
        }
      ]
    },
    {
      "cell_type": "code",
      "source": [
        "# mix integer and slice index\n",
        "a = np.array([[1,2,3,4], [5,6,7,8], [9,10,11,12]])\n",
        "print(a)\n",
        "b = a[1, :]\n",
        "print(b)"
      ],
      "metadata": {
        "colab": {
          "base_uri": "https://localhost:8080/"
        },
        "id": "WsGcEtN4ck7s",
        "outputId": "32ed9c39-7ada-49d2-bbf7-1a242820977f"
      },
      "execution_count": 24,
      "outputs": [
        {
          "output_type": "stream",
          "name": "stdout",
          "text": [
            "[[ 1  2  3  4]\n",
            " [ 5  6  7  8]\n",
            " [ 9 10 11 12]]\n",
            "[5 6 7 8]\n"
          ]
        }
      ]
    },
    {
      "cell_type": "code",
      "source": [
        "# use two list as index\n",
        "a = np.array([[1,2,3,4], [5,6,7,8], [9,10,11,12]])\n",
        "print(a, '\\n')\n",
        "print(a[[0,1,2],[2,1,2]])"
      ],
      "metadata": {
        "colab": {
          "base_uri": "https://localhost:8080/"
        },
        "id": "6temX0VncoL3",
        "outputId": "78fb4bbd-0f48-4de1-ea8c-ef5b6bb63700"
      },
      "execution_count": 25,
      "outputs": [
        {
          "output_type": "stream",
          "name": "stdout",
          "text": [
            "[[ 1  2  3  4]\n",
            " [ 5  6  7  8]\n",
            " [ 9 10 11 12]] \n",
            "\n",
            "[ 3  6 11]\n"
          ]
        }
      ]
    },
    {
      "cell_type": "code",
      "source": [
        "# update values\n",
        "a = np.zeros((3,3))\n",
        "for i in range(3):\n",
        "    a[:,i] = i\n",
        "print('before\\n',a)\n",
        "\n",
        "a[1,:] += 10\n",
        "print('after\\n',a)"
      ],
      "metadata": {
        "colab": {
          "base_uri": "https://localhost:8080/"
        },
        "id": "y2zQi7I-cruC",
        "outputId": "9a6fba13-03bc-4f30-8e57-5d36db429966"
      },
      "execution_count": 26,
      "outputs": [
        {
          "output_type": "stream",
          "name": "stdout",
          "text": [
            "before\n",
            " [[0. 1. 2.]\n",
            " [0. 1. 2.]\n",
            " [0. 1. 2.]]\n",
            "after\n",
            " [[ 0.  1.  2.]\n",
            " [10. 11. 12.]\n",
            " [ 0.  1.  2.]]\n"
          ]
        }
      ]
    },
    {
      "cell_type": "code",
      "source": [
        "a = np.zeros((3,3))\n",
        "for i in range(3):\n",
        "    a[:,i] = i\n",
        "print('before\\n',a)\n",
        "\n",
        "a[:,2] = 5.\n",
        "print('after\\n',a)"
      ],
      "metadata": {
        "colab": {
          "base_uri": "https://localhost:8080/"
        },
        "id": "mD8JFH7kcuJq",
        "outputId": "e7a23649-f55e-4d2f-b3c9-9c16271ad0cc"
      },
      "execution_count": 27,
      "outputs": [
        {
          "output_type": "stream",
          "name": "stdout",
          "text": [
            "before\n",
            " [[0. 1. 2.]\n",
            " [0. 1. 2.]\n",
            " [0. 1. 2.]]\n",
            "after\n",
            " [[0. 1. 5.]\n",
            " [0. 1. 5.]\n",
            " [0. 1. 5.]]\n"
          ]
        }
      ]
    },
    {
      "cell_type": "code",
      "source": [
        "# type of data in the array\n",
        "a=np.array(([1,1],[1,1]))\n",
        "print(a)\n",
        "print(a.dtype)\n"
      ],
      "metadata": {
        "colab": {
          "base_uri": "https://localhost:8080/"
        },
        "id": "oJiabdrAcyRF",
        "outputId": "09c89b49-15de-41d6-ee7a-ae144bd91541"
      },
      "execution_count": 28,
      "outputs": [
        {
          "output_type": "stream",
          "name": "stdout",
          "text": [
            "[[1 1]\n",
            " [1 1]]\n",
            "int64\n"
          ]
        }
      ]
    },
    {
      "cell_type": "code",
      "source": [
        "a=np.array(([1.,1],[1,1]))\n",
        "print(a)\n",
        "print(a.dtype)"
      ],
      "metadata": {
        "colab": {
          "base_uri": "https://localhost:8080/"
        },
        "id": "lMiUkILMc0H8",
        "outputId": "fdde74ce-181e-44fa-bd42-6f1015b9f0ad"
      },
      "execution_count": 29,
      "outputs": [
        {
          "output_type": "stream",
          "name": "stdout",
          "text": [
            "[[1. 1.]\n",
            " [1. 1.]]\n",
            "float64\n"
          ]
        }
      ]
    },
    {
      "cell_type": "code",
      "source": [
        "a=np.array(([1.,1],[1,1]))>2\n",
        "print(a)\n",
        "print(a.dtype)"
      ],
      "metadata": {
        "colab": {
          "base_uri": "https://localhost:8080/"
        },
        "id": "xVxoP7EPc3PT",
        "outputId": "02a23f04-64fb-4182-f03b-cea0e60ee78d"
      },
      "execution_count": 30,
      "outputs": [
        {
          "output_type": "stream",
          "name": "stdout",
          "text": [
            "[[False False]\n",
            " [False False]]\n",
            "bool\n"
          ]
        }
      ]
    },
    {
      "cell_type": "code",
      "source": [
        "a=np.array((['1','1'],['1','1']))\n",
        "print(a)\n",
        "print(a.dtype)"
      ],
      "metadata": {
        "colab": {
          "base_uri": "https://localhost:8080/"
        },
        "id": "AmZQNMKhc5UH",
        "outputId": "44c8294f-0a6a-42f9-a458-840130ed4d45"
      },
      "execution_count": 31,
      "outputs": [
        {
          "output_type": "stream",
          "name": "stdout",
          "text": [
            "[['1' '1']\n",
            " ['1' '1']]\n",
            "<U1\n"
          ]
        }
      ]
    },
    {
      "cell_type": "code",
      "source": [
        "a=np.array((['1','1'],['1','1']),dtype=float)\n",
        "print(a)\n",
        "print(a.dtype)"
      ],
      "metadata": {
        "colab": {
          "base_uri": "https://localhost:8080/"
        },
        "id": "3Tywqz2zc7-8",
        "outputId": "8e23c9de-8bfb-42eb-ab15-fe9f329662b4"
      },
      "execution_count": 32,
      "outputs": [
        {
          "output_type": "stream",
          "name": "stdout",
          "text": [
            "[[1. 1.]\n",
            " [1. 1.]]\n",
            "float64\n"
          ]
        }
      ]
    }
  ]
}