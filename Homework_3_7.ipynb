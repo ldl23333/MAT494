{
  "nbformat": 4,
  "nbformat_minor": 0,
  "metadata": {
    "colab": {
      "provenance": [],
      "collapsed_sections": [],
      "authorship_tag": "ABX9TyNEqQ0uT02FsV665kgxUOVe",
      "include_colab_link": true
    },
    "kernelspec": {
      "name": "python3",
      "display_name": "Python 3"
    },
    "language_info": {
      "name": "python"
    }
  },
  "cells": [
    {
      "cell_type": "markdown",
      "metadata": {
        "id": "view-in-github",
        "colab_type": "text"
      },
      "source": [
        "<a href=\"https://colab.research.google.com/github/ldl23333/MAT494/blob/main/Homework_3_7.ipynb\" target=\"_parent\"><img src=\"https://colab.research.google.com/assets/colab-badge.svg\" alt=\"Open In Colab\"/></a>"
      ]
    },
    {
      "cell_type": "markdown",
      "source": [
        "Homework 3.7"
      ],
      "metadata": {
        "id": "w6xdiLF41Bxz"
      }
    },
    {
      "cell_type": "markdown",
      "source": [
        "1. Load and prepare the MNIST dataset"
      ],
      "metadata": {
        "id": "zUwbTq5h1TOO"
      }
    },
    {
      "cell_type": "code",
      "execution_count": 1,
      "metadata": {
        "id": "w80SMZrH04QH"
      },
      "outputs": [],
      "source": [
        "import tensorflow as tf"
      ]
    },
    {
      "cell_type": "code",
      "source": [
        "# load the dataset\n",
        "mnist = tf.keras.datasets.mnist\n",
        "\n",
        "# convert the samples from integers to floating-point numbers\n",
        "(x_train, y_train), (x_test, y_test) = mnist.load_data()\n",
        "x_train, x_test = x_train / 255.0, x_test / 255.0"
      ],
      "metadata": {
        "colab": {
          "base_uri": "https://localhost:8080/"
        },
        "id": "q-6-BNtM1WpB",
        "outputId": "8dc228ef-e6b5-4cf8-b16f-e6125b792b61"
      },
      "execution_count": 2,
      "outputs": [
        {
          "output_type": "stream",
          "name": "stdout",
          "text": [
            "Downloading data from https://storage.googleapis.com/tensorflow/tf-keras-datasets/mnist.npz\n",
            "11490434/11490434 [==============================] - 0s 0us/step\n"
          ]
        }
      ]
    },
    {
      "cell_type": "markdown",
      "source": [
        "2. Build the tf.keras.Sequential model by stacking layers."
      ],
      "metadata": {
        "id": "v2qAX7KF1vis"
      }
    },
    {
      "cell_type": "code",
      "source": [
        "model = tf.keras.models.Sequential([\n",
        "  tf.keras.layers.Flatten(input_shape=(28, 28)),\n",
        "  tf.keras.layers.Dense(128, activation='relu'),\n",
        "  tf.keras.layers.Dropout(0.2),\n",
        "  tf.keras.layers.Dense(10)\n",
        "])"
      ],
      "metadata": {
        "id": "8Coij7751ZXV"
      },
      "execution_count": 3,
      "outputs": []
    },
    {
      "cell_type": "code",
      "source": [
        "predictions = model(x_train[:1]).numpy()\n",
        "predictions"
      ],
      "metadata": {
        "colab": {
          "base_uri": "https://localhost:8080/"
        },
        "id": "_63GIObO1dUd",
        "outputId": "a4de5204-8761-4e3f-cf3f-fdfda5eaf506"
      },
      "execution_count": 4,
      "outputs": [
        {
          "output_type": "execute_result",
          "data": {
            "text/plain": [
              "array([[-0.3578151 , -0.18092543,  0.10100691, -0.6844629 , -0.26471305,\n",
              "         0.3390288 , -0.13943173,  0.83390915, -0.6437076 , -0.2903165 ]],\n",
              "      dtype=float32)"
            ]
          },
          "metadata": {},
          "execution_count": 4
        }
      ]
    },
    {
      "cell_type": "code",
      "source": [
        "tf.nn.softmax(predictions).numpy()"
      ],
      "metadata": {
        "colab": {
          "base_uri": "https://localhost:8080/"
        },
        "id": "hNHBuIJN1fSF",
        "outputId": "bf37e8f5-7a68-4b1d-9542-590090f7fe43"
      },
      "execution_count": 5,
      "outputs": [
        {
          "output_type": "execute_result",
          "data": {
            "text/plain": [
              "array([[0.07163315, 0.08549412, 0.11333863, 0.0516717 , 0.07862267,\n",
              "        0.1437969 , 0.08911622, 0.23587035, 0.05382109, 0.07663521]],\n",
              "      dtype=float32)"
            ]
          },
          "metadata": {},
          "execution_count": 5
        }
      ]
    },
    {
      "cell_type": "code",
      "source": [
        "loss_fn = tf.keras.losses.SparseCategoricalCrossentropy(from_logits=True)"
      ],
      "metadata": {
        "id": "RXQSi4Qq1hXK"
      },
      "execution_count": 6,
      "outputs": []
    },
    {
      "cell_type": "code",
      "source": [
        "model.compile(optimizer='adam',\n",
        "              loss=loss_fn,\n",
        "              metrics=['accuracy'])"
      ],
      "metadata": {
        "id": "o2mry0i81kHf"
      },
      "execution_count": 7,
      "outputs": []
    },
    {
      "cell_type": "code",
      "source": [
        "model.fit(x_train, y_train, epochs=5)"
      ],
      "metadata": {
        "colab": {
          "base_uri": "https://localhost:8080/"
        },
        "id": "LvFd6dSY1qWp",
        "outputId": "65d8831d-2a26-4968-f7fa-e9c4cfc99dcc"
      },
      "execution_count": 8,
      "outputs": [
        {
          "output_type": "stream",
          "name": "stdout",
          "text": [
            "Epoch 1/5\n",
            "1875/1875 [==============================] - 9s 4ms/step - loss: 0.2932 - accuracy: 0.9148\n",
            "Epoch 2/5\n",
            "1875/1875 [==============================] - 7s 4ms/step - loss: 0.1419 - accuracy: 0.9579\n",
            "Epoch 3/5\n",
            "1875/1875 [==============================] - 7s 4ms/step - loss: 0.1071 - accuracy: 0.9670\n",
            "Epoch 4/5\n",
            "1875/1875 [==============================] - 7s 4ms/step - loss: 0.0882 - accuracy: 0.9729\n",
            "Epoch 5/5\n",
            "1875/1875 [==============================] - 7s 4ms/step - loss: 0.0739 - accuracy: 0.9768\n"
          ]
        },
        {
          "output_type": "execute_result",
          "data": {
            "text/plain": [
              "<keras.callbacks.History at 0x7f1bd43c81d0>"
            ]
          },
          "metadata": {},
          "execution_count": 8
        }
      ]
    },
    {
      "cell_type": "markdown",
      "source": [
        "3. Evaluate the Model"
      ],
      "metadata": {
        "id": "aATVklTS10WR"
      }
    },
    {
      "cell_type": "code",
      "source": [
        "model.evaluate(x_test,  y_test, verbose=2)"
      ],
      "metadata": {
        "colab": {
          "base_uri": "https://localhost:8080/"
        },
        "id": "KF5F_RsF11Sl",
        "outputId": "f3985050-28e0-49ec-fa35-665d09c718d7"
      },
      "execution_count": 9,
      "outputs": [
        {
          "output_type": "stream",
          "name": "stdout",
          "text": [
            "313/313 - 1s - loss: 0.0782 - accuracy: 0.9763 - 797ms/epoch - 3ms/step\n"
          ]
        },
        {
          "output_type": "execute_result",
          "data": {
            "text/plain": [
              "[0.07816009223461151, 0.9763000011444092]"
            ]
          },
          "metadata": {},
          "execution_count": 9
        }
      ]
    },
    {
      "cell_type": "code",
      "source": [
        "probability_model = tf.keras.Sequential([\n",
        "  model,\n",
        "  tf.keras.layers.Softmax()\n",
        "])"
      ],
      "metadata": {
        "id": "HUqvFcGj13Oy"
      },
      "execution_count": 10,
      "outputs": []
    },
    {
      "cell_type": "code",
      "source": [
        "probability_model(x_test[:5])"
      ],
      "metadata": {
        "colab": {
          "base_uri": "https://localhost:8080/"
        },
        "id": "g2Ns1pa215Fg",
        "outputId": "b717b4dc-159b-44ed-eb25-14468fef84a6"
      },
      "execution_count": 11,
      "outputs": [
        {
          "output_type": "execute_result",
          "data": {
            "text/plain": [
              "<tf.Tensor: shape=(5, 10), dtype=float32, numpy=\n",
              "array([[4.4408623e-07, 5.3013429e-09, 4.1989024e-05, 1.3771269e-04,\n",
              "        4.0509790e-10, 8.3432622e-07, 3.7070444e-13, 9.9971372e-01,\n",
              "        1.8437706e-07, 1.0504001e-04],\n",
              "       [3.3712733e-13, 3.7294533e-04, 9.9962568e-01, 1.1377659e-06,\n",
              "        1.9478341e-13, 1.3655099e-07, 2.5428655e-08, 1.6412680e-12,\n",
              "        1.3287107e-07, 7.9573327e-12],\n",
              "       [1.3157536e-07, 9.9940991e-01, 2.2145847e-04, 1.5459016e-05,\n",
              "        2.8652801e-05, 2.9328885e-06, 2.7025078e-05, 1.8974692e-04,\n",
              "        1.0410529e-04, 6.7631316e-07],\n",
              "       [9.9865192e-01, 4.4040376e-09, 1.0792401e-03, 1.1653018e-06,\n",
              "        3.3793058e-05, 3.0611725e-05, 6.5139189e-05, 6.6765053e-05,\n",
              "        1.0260154e-06, 7.0337075e-05],\n",
              "       [3.8483611e-07, 5.0645532e-10, 2.8316713e-06, 2.0335273e-09,\n",
              "        9.9966288e-01, 1.5131808e-07, 1.1750900e-06, 1.5417445e-05,\n",
              "        8.5009537e-09, 3.1712971e-04]], dtype=float32)>"
            ]
          },
          "metadata": {},
          "execution_count": 11
        }
      ]
    },
    {
      "cell_type": "code",
      "source": [
        "#@title Licensed under the Apache License, Version 2.0 (the \"License\");\n",
        "# you may not use this file except in compliance with the License.\n",
        "# You may obtain a copy of the License at\n",
        "#\n",
        "# https://www.apache.org/licenses/LICENSE-2.0\n",
        "#\n",
        "# Unless required by applicable law or agreed to in writing, software\n",
        "# distributed under the License is distributed on an \"AS IS\" BASIS,\n",
        "# WITHOUT WARRANTIES OR CONDITIONS OF ANY KIND, either express or implied.\n",
        "# See the License for the specific language governing permissions and\n",
        "# limitations under the License."
      ],
      "metadata": {
        "id": "prKIfCCe168t"
      },
      "execution_count": 12,
      "outputs": []
    }
  ]
}